{
 "cells": [
  {
   "cell_type": "code",
   "execution_count": 1,
   "source": [
    "from Bio import SeqIO\n",
    "from Bio.Seq import Seq\n",
    "\n",
    "import numpy as np\n",
    "import pandas as pd\n",
    "import seaborn as sns\n",
    "import os, progressbar, time"
   ],
   "outputs": [],
   "metadata": {}
  },
  {
   "cell_type": "markdown",
   "source": [
    "## 1. Collect protein IDs to retrieve their CDS"
   ],
   "metadata": {}
  },
  {
   "cell_type": "code",
   "execution_count": null,
   "source": [
    "def collect_cds(fastaFile, cdsList, outFile):\n",
    "    tmp = []\n",
    "    for seqRecord in SeqIO.parse(fastaFile, format='fasta'):\n",
    "        if seqRecord.id in cdsList :\n",
    "            tmp.append(seqRecord)\n",
    "    SeqIO.write(tmp, open(outFile, 'w'), 'fasta')"
   ],
   "outputs": [],
   "metadata": {}
  },
  {
   "cell_type": "code",
   "execution_count": 21,
   "source": [
    "HG_fasta = '../../data/ortholog_dataset/uni_HG_orthologs.faa'\n",
    "MM_fasta = '../../data/ortholog_dataset/uni_MM_orthologs.faa'\n",
    "\n",
    "HG_cds_fasta = '/media/savvy/DATA3/savvy/Genomes/model/heterocephalus_glaber/h_glaber_cds_from_genomic.fna'\n",
    "MM_cds_fasta = '/media/savvy/DATA3/savvy/Genomes/model/mus_musculus/m_musculus_cds_from_genomic.fna'\n",
    "\n",
    "HG_IDs = [ seqRecord.id for seqRecord in SeqIO.parse(HG_fasta, format='fasta')]\n",
    "MM_IDs = [ seqRecord.id for seqRecord in SeqIO.parse(MM_fasta, format='fasta')]"
   ],
   "outputs": [],
   "metadata": {}
  },
  {
   "cell_type": "code",
   "execution_count": null,
   "source": [
    "collect_cds(HG_cds_fasta, HG_IDs, '../data/ortholog_dataset/uni_HG_cds_orthologs.faa')\n",
    "collect_cds(MM_cds_fasta, MM_IDs, '../data/ortholog_dataset/uni_MM_cds_orthologs.faa')"
   ],
   "outputs": [],
   "metadata": {}
  },
  {
   "cell_type": "markdown",
   "source": [
    "## 2. Collect the CDS "
   ],
   "metadata": {}
  },
  {
   "cell_type": "code",
   "execution_count": 33,
   "source": [
    "HG_cds_fasta = '../../data/ortholog_dataset/uni_HG_cds_orthologs.faa'\n",
    "MM_cds_fasta = '../../data/ortholog_dataset/uni_MM_cds_orthologs.faa'"
   ],
   "outputs": [],
   "metadata": {}
  },
  {
   "cell_type": "markdown",
   "source": [
    "#### All proteins"
   ],
   "metadata": {}
  },
  {
   "cell_type": "code",
   "execution_count": 24,
   "source": [
    "all_agg_scores = pd.read_csv('../../data/aggregation_propensity/HGMM_agg_scores.csv', sep=',') \n",
    "ortho_pairs = all_agg_scores[['proteinID_x', 'proteinID_y']]"
   ],
   "outputs": [],
   "metadata": {}
  },
  {
   "cell_type": "markdown",
   "source": [
    "#### Chaperone clients"
   ],
   "metadata": {}
  },
  {
   "cell_type": "code",
   "execution_count": 25,
   "source": [
    "uniprot_mapping = pd.read_csv('../../data/chaperone_clients/human_ensembl_to_uniprot.tab', sep='\\t')\n",
    "hs_mm_orthologs = pd.read_csv('../../data/chaperone_clients/HS_MM_uni_ortholog_groups.csv', sep='\\t')\n",
    "hs_mm_orthologs = hs_mm_orthologs[['proteinID_x', 'proteinID_y']]\n",
    "mm_chap_clt = hs_mm_orthologs[hs_mm_orthologs['proteinID_x'].isin(uniprot_mapping['Entry'])]['proteinID_y']\n",
    "\n",
    "chap_clt_sub = all_agg_scores[all_agg_scores['proteinID_y'].isin(list(mm_chap_clt))]"
   ],
   "outputs": [],
   "metadata": {}
  },
  {
   "cell_type": "code",
   "execution_count": 26,
   "source": [
    "len(chap_clt_sub)"
   ],
   "outputs": [
    {
     "output_type": "execute_result",
     "data": {
      "text/plain": [
       "1298"
      ]
     },
     "metadata": {},
     "execution_count": 26
    }
   ],
   "metadata": {}
  },
  {
   "cell_type": "code",
   "execution_count": 27,
   "source": [
    "#### Container of MM and HG sequences\n",
    "HG_IDs = list(all_agg_scores['proteinID_x'])\n",
    "MM_IDs = list(all_agg_scores['proteinID_y'])"
   ],
   "outputs": [],
   "metadata": {}
  },
  {
   "cell_type": "code",
   "execution_count": 34,
   "source": [
    "HG_seq = {}\n",
    "MM_seq = {}\n",
    "\n",
    "for seqRecord in SeqIO.parse(HG_cds_fasta, format='fasta'):\n",
    "    if seqRecord.id in HG_IDs :\n",
    "        HG_seq[seqRecord.id] = seqRecord\n",
    "        \n",
    "for seqRecord in SeqIO.parse(MM_cds_fasta, format='fasta'):\n",
    "    if seqRecord.id in MM_IDs :\n",
    "        MM_seq[seqRecord.id] = seqRecord"
   ],
   "outputs": [],
   "metadata": {}
  },
  {
   "cell_type": "code",
   "execution_count": 35,
   "source": [
    "print(f'MM: {len(MM_seq)}, HG: {len(HG_seq)}')"
   ],
   "outputs": [
    {
     "output_type": "stream",
     "name": "stdout",
     "text": [
      "MM: 9518, HG: 9522\n"
     ]
    }
   ],
   "metadata": {}
  },
  {
   "cell_type": "markdown",
   "source": [
    "#### Check cds length / cds with non standard nucleotide"
   ],
   "metadata": {}
  },
  {
   "cell_type": "code",
   "execution_count": 36,
   "source": [
    "tmp = []\n",
    "for key in MM_seq.keys() :\n",
    "    cds_id = key\n",
    "    cds = MM_seq[key].seq\n",
    "    if len(cds) % 3 == 0 :\n",
    "        if list(np.unique(cds)) != ['A', 'C', 'G', 'T']:\n",
    "            tmp.append([cds_id, 'MM', 'non_standard_nucleotide', False])\n",
    "        else: \n",
    "            tmp.append([cds_id,'MM', 'standard', True])\n",
    "    else:\n",
    "        tmp.append([cds_id, 'MM', 'non_standard_length', False])\n",
    "        \n",
    "for key in HG_seq.keys() :\n",
    "    cds_id = key\n",
    "    cds = HG_seq[key].seq\n",
    "    if len(cds) % 3 == 0 :\n",
    "        if list(np.unique(cds)) != ['A', 'C', 'G', 'T']:\n",
    "            tmp.append([cds_id, 'HG', 'non_standard_nucleotide', False])\n",
    "        else: \n",
    "            tmp.append([cds_id,'HG', 'standard', True])\n",
    "    else:\n",
    "        tmp.append([cds_id, 'HG', 'non_standard_length', False])\n",
    "\n",
    "cds_validity = pd.DataFrame(tmp, columns=['proteinID', 'organism', 'description', 'valid_cds'])"
   ],
   "outputs": [
    {
     "output_type": "stream",
     "name": "stdout",
     "text": [
      "CPU times: user 11.2 s, sys: 15.1 ms, total: 11.2 s\n",
      "Wall time: 11.2 s\n"
     ]
    }
   ],
   "metadata": {}
  },
  {
   "cell_type": "code",
   "execution_count": 37,
   "source": [
    "len(cds_validity[cds_validity['valid_cds'] == True])"
   ],
   "outputs": [
    {
     "output_type": "execute_result",
     "data": {
      "text/plain": [
       "18944"
      ]
     },
     "metadata": {},
     "execution_count": 37
    }
   ],
   "metadata": {}
  },
  {
   "cell_type": "code",
   "execution_count": 38,
   "source": [
    "HG_valids = cds_validity[(cds_validity['valid_cds'] == True) & (cds_validity['organism'] == 'HG')].rename(columns={'proteinID':'proteinID_x'})\n",
    "MM_valids = cds_validity[(cds_validity['valid_cds'] == True) & (cds_validity['organism'] == 'MM')].rename(columns={'proteinID':'proteinID_y'})"
   ],
   "outputs": [],
   "metadata": {}
  },
  {
   "cell_type": "code",
   "execution_count": 39,
   "source": [
    "HG_valids = HG_valids.merge(ortho_pairs, on='proteinID_x')\n",
    "ortho_cds_valids = HG_valids.merge(MM_valids, on='proteinID_y')"
   ],
   "outputs": [],
   "metadata": {}
  },
  {
   "cell_type": "code",
   "execution_count": 40,
   "source": [
    "#### Number of valid cds pairs\n",
    "ortho_cds_valids.to_csv('../../data/mutation_tolerance/ortho_valids_cds.csv', sep='\\t', index=False)\n",
    "ortho_cds_valids"
   ],
   "outputs": [
    {
     "output_type": "execute_result",
     "data": {
      "text/plain": [
       "     proteinID_x organism_x description_x  valid_cds_x proteinID_y organism_y  \\\n",
       "0         E3VX36         HG      standard         True      P51910         MM   \n",
       "1         E3VX52         HG      standard         True      P23927         MM   \n",
       "2         E3VX64         HG      standard         True      P34884         MM   \n",
       "3         E3VX68         HG      standard         True      Q9D7M8         MM   \n",
       "4         E3VX70         HG      standard         True      P61514         MM   \n",
       "...          ...        ...           ...          ...         ...        ...   \n",
       "9417      G5CBQ5         HG      standard         True      Q3TYX3         MM   \n",
       "9418      G5CBQ6         HG      standard         True      Q8R361         MM   \n",
       "9419      G5CBQ8         HG      standard         True      Q04742         MM   \n",
       "9420      G5CBQ9         HG      standard         True      Q64105         MM   \n",
       "9421      G5CBR0         HG      standard         True      A6H5Z3         MM   \n",
       "\n",
       "     description_y  valid_cds_y  \n",
       "0         standard         True  \n",
       "1         standard         True  \n",
       "2         standard         True  \n",
       "3         standard         True  \n",
       "4         standard         True  \n",
       "...            ...          ...  \n",
       "9417      standard         True  \n",
       "9418      standard         True  \n",
       "9419      standard         True  \n",
       "9420      standard         True  \n",
       "9421      standard         True  \n",
       "\n",
       "[9422 rows x 8 columns]"
      ],
      "text/html": [
       "<div>\n",
       "<style scoped>\n",
       "    .dataframe tbody tr th:only-of-type {\n",
       "        vertical-align: middle;\n",
       "    }\n",
       "\n",
       "    .dataframe tbody tr th {\n",
       "        vertical-align: top;\n",
       "    }\n",
       "\n",
       "    .dataframe thead th {\n",
       "        text-align: right;\n",
       "    }\n",
       "</style>\n",
       "<table border=\"1\" class=\"dataframe\">\n",
       "  <thead>\n",
       "    <tr style=\"text-align: right;\">\n",
       "      <th></th>\n",
       "      <th>proteinID_x</th>\n",
       "      <th>organism_x</th>\n",
       "      <th>description_x</th>\n",
       "      <th>valid_cds_x</th>\n",
       "      <th>proteinID_y</th>\n",
       "      <th>organism_y</th>\n",
       "      <th>description_y</th>\n",
       "      <th>valid_cds_y</th>\n",
       "    </tr>\n",
       "  </thead>\n",
       "  <tbody>\n",
       "    <tr>\n",
       "      <th>0</th>\n",
       "      <td>E3VX36</td>\n",
       "      <td>HG</td>\n",
       "      <td>standard</td>\n",
       "      <td>True</td>\n",
       "      <td>P51910</td>\n",
       "      <td>MM</td>\n",
       "      <td>standard</td>\n",
       "      <td>True</td>\n",
       "    </tr>\n",
       "    <tr>\n",
       "      <th>1</th>\n",
       "      <td>E3VX52</td>\n",
       "      <td>HG</td>\n",
       "      <td>standard</td>\n",
       "      <td>True</td>\n",
       "      <td>P23927</td>\n",
       "      <td>MM</td>\n",
       "      <td>standard</td>\n",
       "      <td>True</td>\n",
       "    </tr>\n",
       "    <tr>\n",
       "      <th>2</th>\n",
       "      <td>E3VX64</td>\n",
       "      <td>HG</td>\n",
       "      <td>standard</td>\n",
       "      <td>True</td>\n",
       "      <td>P34884</td>\n",
       "      <td>MM</td>\n",
       "      <td>standard</td>\n",
       "      <td>True</td>\n",
       "    </tr>\n",
       "    <tr>\n",
       "      <th>3</th>\n",
       "      <td>E3VX68</td>\n",
       "      <td>HG</td>\n",
       "      <td>standard</td>\n",
       "      <td>True</td>\n",
       "      <td>Q9D7M8</td>\n",
       "      <td>MM</td>\n",
       "      <td>standard</td>\n",
       "      <td>True</td>\n",
       "    </tr>\n",
       "    <tr>\n",
       "      <th>4</th>\n",
       "      <td>E3VX70</td>\n",
       "      <td>HG</td>\n",
       "      <td>standard</td>\n",
       "      <td>True</td>\n",
       "      <td>P61514</td>\n",
       "      <td>MM</td>\n",
       "      <td>standard</td>\n",
       "      <td>True</td>\n",
       "    </tr>\n",
       "    <tr>\n",
       "      <th>...</th>\n",
       "      <td>...</td>\n",
       "      <td>...</td>\n",
       "      <td>...</td>\n",
       "      <td>...</td>\n",
       "      <td>...</td>\n",
       "      <td>...</td>\n",
       "      <td>...</td>\n",
       "      <td>...</td>\n",
       "    </tr>\n",
       "    <tr>\n",
       "      <th>9417</th>\n",
       "      <td>G5CBQ5</td>\n",
       "      <td>HG</td>\n",
       "      <td>standard</td>\n",
       "      <td>True</td>\n",
       "      <td>Q3TYX3</td>\n",
       "      <td>MM</td>\n",
       "      <td>standard</td>\n",
       "      <td>True</td>\n",
       "    </tr>\n",
       "    <tr>\n",
       "      <th>9418</th>\n",
       "      <td>G5CBQ6</td>\n",
       "      <td>HG</td>\n",
       "      <td>standard</td>\n",
       "      <td>True</td>\n",
       "      <td>Q8R361</td>\n",
       "      <td>MM</td>\n",
       "      <td>standard</td>\n",
       "      <td>True</td>\n",
       "    </tr>\n",
       "    <tr>\n",
       "      <th>9419</th>\n",
       "      <td>G5CBQ8</td>\n",
       "      <td>HG</td>\n",
       "      <td>standard</td>\n",
       "      <td>True</td>\n",
       "      <td>Q04742</td>\n",
       "      <td>MM</td>\n",
       "      <td>standard</td>\n",
       "      <td>True</td>\n",
       "    </tr>\n",
       "    <tr>\n",
       "      <th>9420</th>\n",
       "      <td>G5CBQ9</td>\n",
       "      <td>HG</td>\n",
       "      <td>standard</td>\n",
       "      <td>True</td>\n",
       "      <td>Q64105</td>\n",
       "      <td>MM</td>\n",
       "      <td>standard</td>\n",
       "      <td>True</td>\n",
       "    </tr>\n",
       "    <tr>\n",
       "      <th>9421</th>\n",
       "      <td>G5CBR0</td>\n",
       "      <td>HG</td>\n",
       "      <td>standard</td>\n",
       "      <td>True</td>\n",
       "      <td>A6H5Z3</td>\n",
       "      <td>MM</td>\n",
       "      <td>standard</td>\n",
       "      <td>True</td>\n",
       "    </tr>\n",
       "  </tbody>\n",
       "</table>\n",
       "<p>9422 rows × 8 columns</p>\n",
       "</div>"
      ]
     },
     "metadata": {},
     "execution_count": 40
    }
   ],
   "metadata": {}
  },
  {
   "cell_type": "code",
   "execution_count": 41,
   "source": [
    "#### Number of valid cds pairs (chaperone client proteins)\n",
    "ortho_cds_valids[ortho_cds_valids['proteinID_y'].isin(mm_chap_clt)]"
   ],
   "outputs": [
    {
     "output_type": "execute_result",
     "data": {
      "text/plain": [
       "     proteinID_x organism_x description_x  valid_cds_x proteinID_y organism_y  \\\n",
       "0         E3VX36         HG      standard         True      P51910         MM   \n",
       "2         E3VX64         HG      standard         True      P34884         MM   \n",
       "21        G5AJR9         HG      standard         True      Q8BZ60         MM   \n",
       "22        G5AJS0         HG      standard         True      Q99PM3         MM   \n",
       "26        G5AJS7         HG      standard         True      Q62086         MM   \n",
       "...          ...        ...           ...          ...         ...        ...   \n",
       "9397      G5CBL6         HG      standard         True      Q78XR0         MM   \n",
       "9409      G5CBN2         HG      standard         True      Q9Z2F6         MM   \n",
       "9412      G5CBP7         HG      standard         True      Q8C1M2         MM   \n",
       "9413      G5CBQ1         HG      standard         True      Q8K4E0         MM   \n",
       "9420      G5CBQ9         HG      standard         True      Q64105         MM   \n",
       "\n",
       "     description_y  valid_cds_y  \n",
       "0         standard         True  \n",
       "2         standard         True  \n",
       "21        standard         True  \n",
       "22        standard         True  \n",
       "26        standard         True  \n",
       "...            ...          ...  \n",
       "9397      standard         True  \n",
       "9409      standard         True  \n",
       "9412      standard         True  \n",
       "9413      standard         True  \n",
       "9420      standard         True  \n",
       "\n",
       "[1291 rows x 8 columns]"
      ],
      "text/html": [
       "<div>\n",
       "<style scoped>\n",
       "    .dataframe tbody tr th:only-of-type {\n",
       "        vertical-align: middle;\n",
       "    }\n",
       "\n",
       "    .dataframe tbody tr th {\n",
       "        vertical-align: top;\n",
       "    }\n",
       "\n",
       "    .dataframe thead th {\n",
       "        text-align: right;\n",
       "    }\n",
       "</style>\n",
       "<table border=\"1\" class=\"dataframe\">\n",
       "  <thead>\n",
       "    <tr style=\"text-align: right;\">\n",
       "      <th></th>\n",
       "      <th>proteinID_x</th>\n",
       "      <th>organism_x</th>\n",
       "      <th>description_x</th>\n",
       "      <th>valid_cds_x</th>\n",
       "      <th>proteinID_y</th>\n",
       "      <th>organism_y</th>\n",
       "      <th>description_y</th>\n",
       "      <th>valid_cds_y</th>\n",
       "    </tr>\n",
       "  </thead>\n",
       "  <tbody>\n",
       "    <tr>\n",
       "      <th>0</th>\n",
       "      <td>E3VX36</td>\n",
       "      <td>HG</td>\n",
       "      <td>standard</td>\n",
       "      <td>True</td>\n",
       "      <td>P51910</td>\n",
       "      <td>MM</td>\n",
       "      <td>standard</td>\n",
       "      <td>True</td>\n",
       "    </tr>\n",
       "    <tr>\n",
       "      <th>2</th>\n",
       "      <td>E3VX64</td>\n",
       "      <td>HG</td>\n",
       "      <td>standard</td>\n",
       "      <td>True</td>\n",
       "      <td>P34884</td>\n",
       "      <td>MM</td>\n",
       "      <td>standard</td>\n",
       "      <td>True</td>\n",
       "    </tr>\n",
       "    <tr>\n",
       "      <th>21</th>\n",
       "      <td>G5AJR9</td>\n",
       "      <td>HG</td>\n",
       "      <td>standard</td>\n",
       "      <td>True</td>\n",
       "      <td>Q8BZ60</td>\n",
       "      <td>MM</td>\n",
       "      <td>standard</td>\n",
       "      <td>True</td>\n",
       "    </tr>\n",
       "    <tr>\n",
       "      <th>22</th>\n",
       "      <td>G5AJS0</td>\n",
       "      <td>HG</td>\n",
       "      <td>standard</td>\n",
       "      <td>True</td>\n",
       "      <td>Q99PM3</td>\n",
       "      <td>MM</td>\n",
       "      <td>standard</td>\n",
       "      <td>True</td>\n",
       "    </tr>\n",
       "    <tr>\n",
       "      <th>26</th>\n",
       "      <td>G5AJS7</td>\n",
       "      <td>HG</td>\n",
       "      <td>standard</td>\n",
       "      <td>True</td>\n",
       "      <td>Q62086</td>\n",
       "      <td>MM</td>\n",
       "      <td>standard</td>\n",
       "      <td>True</td>\n",
       "    </tr>\n",
       "    <tr>\n",
       "      <th>...</th>\n",
       "      <td>...</td>\n",
       "      <td>...</td>\n",
       "      <td>...</td>\n",
       "      <td>...</td>\n",
       "      <td>...</td>\n",
       "      <td>...</td>\n",
       "      <td>...</td>\n",
       "      <td>...</td>\n",
       "    </tr>\n",
       "    <tr>\n",
       "      <th>9397</th>\n",
       "      <td>G5CBL6</td>\n",
       "      <td>HG</td>\n",
       "      <td>standard</td>\n",
       "      <td>True</td>\n",
       "      <td>Q78XR0</td>\n",
       "      <td>MM</td>\n",
       "      <td>standard</td>\n",
       "      <td>True</td>\n",
       "    </tr>\n",
       "    <tr>\n",
       "      <th>9409</th>\n",
       "      <td>G5CBN2</td>\n",
       "      <td>HG</td>\n",
       "      <td>standard</td>\n",
       "      <td>True</td>\n",
       "      <td>Q9Z2F6</td>\n",
       "      <td>MM</td>\n",
       "      <td>standard</td>\n",
       "      <td>True</td>\n",
       "    </tr>\n",
       "    <tr>\n",
       "      <th>9412</th>\n",
       "      <td>G5CBP7</td>\n",
       "      <td>HG</td>\n",
       "      <td>standard</td>\n",
       "      <td>True</td>\n",
       "      <td>Q8C1M2</td>\n",
       "      <td>MM</td>\n",
       "      <td>standard</td>\n",
       "      <td>True</td>\n",
       "    </tr>\n",
       "    <tr>\n",
       "      <th>9413</th>\n",
       "      <td>G5CBQ1</td>\n",
       "      <td>HG</td>\n",
       "      <td>standard</td>\n",
       "      <td>True</td>\n",
       "      <td>Q8K4E0</td>\n",
       "      <td>MM</td>\n",
       "      <td>standard</td>\n",
       "      <td>True</td>\n",
       "    </tr>\n",
       "    <tr>\n",
       "      <th>9420</th>\n",
       "      <td>G5CBQ9</td>\n",
       "      <td>HG</td>\n",
       "      <td>standard</td>\n",
       "      <td>True</td>\n",
       "      <td>Q64105</td>\n",
       "      <td>MM</td>\n",
       "      <td>standard</td>\n",
       "      <td>True</td>\n",
       "    </tr>\n",
       "  </tbody>\n",
       "</table>\n",
       "<p>1291 rows × 8 columns</p>\n",
       "</div>"
      ]
     },
     "metadata": {},
     "execution_count": 41
    }
   ],
   "metadata": {}
  },
  {
   "cell_type": "code",
   "execution_count": null,
   "source": [
    "f = open('../../data/mutation_tolerance/tango_directory_list/MM_chap_list', 'w')\n",
    "for ID in MM_chap_clt_stats['proteinID_y'].values:\n",
    "    f.write(f'{ID}\\n')\n",
    "f.close()    \n",
    "\n",
    "f = open('../../data/mutation_tolerance/tango_directory_list/HG_chap_list', 'w')\n",
    "for ID in HG_chap_clt_stats['proteinID_x'].values:\n",
    "    f.write(f'{ID}\\n')\n",
    "f.close()    "
   ],
   "outputs": [],
   "metadata": {}
  },
  {
   "cell_type": "code",
   "execution_count": null,
   "source": [
    "f = open('../../data/mutation_tolerance/tango_directory_list/MM_others_list', 'w')\n",
    "for ID in MM_others_stats['proteinID_y'].values:\n",
    "    f.write(f'{ID}\\n')\n",
    "f.close()    \n",
    "\n",
    "f = open('../../data/mutation_tolerance/tango_directory_list//HG_others_list', 'w')\n",
    "for ID in HG_others_stats['proteinID_x'].values:\n",
    "    f.write(f'{ID}\\n')\n",
    "f.close()    "
   ],
   "outputs": [],
   "metadata": {}
  },
  {
   "cell_type": "markdown",
   "source": [
    "#### Tango execution time\n",
    "\n",
    "- Shortest protein (Q00LT2 - length=53 aa)\n",
    "    - Time execution in Tango: 0.024s\n",
    "- Longest protein (G5C996 - length=10159 aa)\n",
    "    - Time execution in Tango: 5.116s\n"
   ],
   "metadata": {}
  },
  {
   "cell_type": "markdown",
   "source": [
    "## 3. Check number of mutants per protein"
   ],
   "metadata": {}
  },
  {
   "cell_type": "code",
   "execution_count": 65,
   "source": [
    "HG_all_count = pd.read_csv('../../data/mutation_tolerance/HG_all_mutants_counts.csv').rename(columns={'proteinID':'proteinID_x'})\n",
    "MM_all_count = pd.read_csv('../../data/mutation_tolerance/MM_all_mutants_counts.csv').rename(columns={'proteinID':'proteinID_y'})"
   ],
   "outputs": [],
   "metadata": {}
  },
  {
   "cell_type": "code",
   "execution_count": 66,
   "source": [
    "HG_all_count[HG_all_count['unique_MT'] > 10000].sort_values('unique_MT')"
   ],
   "outputs": [
    {
     "output_type": "execute_result",
     "data": {
      "text/plain": [
       "      proteinID_x  all_MT  unique_MT\n",
       "2475       G5AYN3   14473      10007\n",
       "8576       G5BYG3   14581      10015\n",
       "2176       G5AX45   14788      10022\n",
       "10502      G5C9E9   15058      10025\n",
       "920        G5AQ52   14518      10046\n",
       "...           ...     ...        ...\n",
       "10426      G5C8Z7   50365      34644\n",
       "3747       G5B601   52138      36782\n",
       "7260       G5BR15   56656      39544\n",
       "8958       G5C0E1   79435      55187\n",
       "10476      G5C996   91441      61617\n",
       "\n",
       "[476 rows x 3 columns]"
      ],
      "text/html": [
       "<div>\n",
       "<style scoped>\n",
       "    .dataframe tbody tr th:only-of-type {\n",
       "        vertical-align: middle;\n",
       "    }\n",
       "\n",
       "    .dataframe tbody tr th {\n",
       "        vertical-align: top;\n",
       "    }\n",
       "\n",
       "    .dataframe thead th {\n",
       "        text-align: right;\n",
       "    }\n",
       "</style>\n",
       "<table border=\"1\" class=\"dataframe\">\n",
       "  <thead>\n",
       "    <tr style=\"text-align: right;\">\n",
       "      <th></th>\n",
       "      <th>proteinID_x</th>\n",
       "      <th>all_MT</th>\n",
       "      <th>unique_MT</th>\n",
       "    </tr>\n",
       "  </thead>\n",
       "  <tbody>\n",
       "    <tr>\n",
       "      <th>2475</th>\n",
       "      <td>G5AYN3</td>\n",
       "      <td>14473</td>\n",
       "      <td>10007</td>\n",
       "    </tr>\n",
       "    <tr>\n",
       "      <th>8576</th>\n",
       "      <td>G5BYG3</td>\n",
       "      <td>14581</td>\n",
       "      <td>10015</td>\n",
       "    </tr>\n",
       "    <tr>\n",
       "      <th>2176</th>\n",
       "      <td>G5AX45</td>\n",
       "      <td>14788</td>\n",
       "      <td>10022</td>\n",
       "    </tr>\n",
       "    <tr>\n",
       "      <th>10502</th>\n",
       "      <td>G5C9E9</td>\n",
       "      <td>15058</td>\n",
       "      <td>10025</td>\n",
       "    </tr>\n",
       "    <tr>\n",
       "      <th>920</th>\n",
       "      <td>G5AQ52</td>\n",
       "      <td>14518</td>\n",
       "      <td>10046</td>\n",
       "    </tr>\n",
       "    <tr>\n",
       "      <th>...</th>\n",
       "      <td>...</td>\n",
       "      <td>...</td>\n",
       "      <td>...</td>\n",
       "    </tr>\n",
       "    <tr>\n",
       "      <th>10426</th>\n",
       "      <td>G5C8Z7</td>\n",
       "      <td>50365</td>\n",
       "      <td>34644</td>\n",
       "    </tr>\n",
       "    <tr>\n",
       "      <th>3747</th>\n",
       "      <td>G5B601</td>\n",
       "      <td>52138</td>\n",
       "      <td>36782</td>\n",
       "    </tr>\n",
       "    <tr>\n",
       "      <th>7260</th>\n",
       "      <td>G5BR15</td>\n",
       "      <td>56656</td>\n",
       "      <td>39544</td>\n",
       "    </tr>\n",
       "    <tr>\n",
       "      <th>8958</th>\n",
       "      <td>G5C0E1</td>\n",
       "      <td>79435</td>\n",
       "      <td>55187</td>\n",
       "    </tr>\n",
       "    <tr>\n",
       "      <th>10476</th>\n",
       "      <td>G5C996</td>\n",
       "      <td>91441</td>\n",
       "      <td>61617</td>\n",
       "    </tr>\n",
       "  </tbody>\n",
       "</table>\n",
       "<p>476 rows × 3 columns</p>\n",
       "</div>"
      ]
     },
     "metadata": {},
     "execution_count": 66
    }
   ],
   "metadata": {}
  },
  {
   "cell_type": "code",
   "execution_count": 67,
   "source": [
    "MM_all_count[MM_all_count['unique_MT'] > 10000].sort_values('unique_MT')"
   ],
   "outputs": [
    {
     "output_type": "execute_result",
     "data": {
      "text/plain": [
       "     proteinID_y  all_MT  unique_MT\n",
       "1295      O88572   14527      10012\n",
       "65    A0A338P6S8   14743      10012\n",
       "4022      Q5NCJ1   14491      10021\n",
       "1404      P02468   14473      10048\n",
       "1403      P02463   15031      10061\n",
       "...          ...     ...        ...\n",
       "181       A2AN08   46630      31953\n",
       "5541      Q80W93   46396      32033\n",
       "183       A2ANY6   50311      34546\n",
       "561       E9Q1W3   64378      45464\n",
       "8086      Q91ZU6   66547      46086\n",
       "\n",
       "[445 rows x 3 columns]"
      ],
      "text/html": [
       "<div>\n",
       "<style scoped>\n",
       "    .dataframe tbody tr th:only-of-type {\n",
       "        vertical-align: middle;\n",
       "    }\n",
       "\n",
       "    .dataframe tbody tr th {\n",
       "        vertical-align: top;\n",
       "    }\n",
       "\n",
       "    .dataframe thead th {\n",
       "        text-align: right;\n",
       "    }\n",
       "</style>\n",
       "<table border=\"1\" class=\"dataframe\">\n",
       "  <thead>\n",
       "    <tr style=\"text-align: right;\">\n",
       "      <th></th>\n",
       "      <th>proteinID_y</th>\n",
       "      <th>all_MT</th>\n",
       "      <th>unique_MT</th>\n",
       "    </tr>\n",
       "  </thead>\n",
       "  <tbody>\n",
       "    <tr>\n",
       "      <th>1295</th>\n",
       "      <td>O88572</td>\n",
       "      <td>14527</td>\n",
       "      <td>10012</td>\n",
       "    </tr>\n",
       "    <tr>\n",
       "      <th>65</th>\n",
       "      <td>A0A338P6S8</td>\n",
       "      <td>14743</td>\n",
       "      <td>10012</td>\n",
       "    </tr>\n",
       "    <tr>\n",
       "      <th>4022</th>\n",
       "      <td>Q5NCJ1</td>\n",
       "      <td>14491</td>\n",
       "      <td>10021</td>\n",
       "    </tr>\n",
       "    <tr>\n",
       "      <th>1404</th>\n",
       "      <td>P02468</td>\n",
       "      <td>14473</td>\n",
       "      <td>10048</td>\n",
       "    </tr>\n",
       "    <tr>\n",
       "      <th>1403</th>\n",
       "      <td>P02463</td>\n",
       "      <td>15031</td>\n",
       "      <td>10061</td>\n",
       "    </tr>\n",
       "    <tr>\n",
       "      <th>...</th>\n",
       "      <td>...</td>\n",
       "      <td>...</td>\n",
       "      <td>...</td>\n",
       "    </tr>\n",
       "    <tr>\n",
       "      <th>181</th>\n",
       "      <td>A2AN08</td>\n",
       "      <td>46630</td>\n",
       "      <td>31953</td>\n",
       "    </tr>\n",
       "    <tr>\n",
       "      <th>5541</th>\n",
       "      <td>Q80W93</td>\n",
       "      <td>46396</td>\n",
       "      <td>32033</td>\n",
       "    </tr>\n",
       "    <tr>\n",
       "      <th>183</th>\n",
       "      <td>A2ANY6</td>\n",
       "      <td>50311</td>\n",
       "      <td>34546</td>\n",
       "    </tr>\n",
       "    <tr>\n",
       "      <th>561</th>\n",
       "      <td>E9Q1W3</td>\n",
       "      <td>64378</td>\n",
       "      <td>45464</td>\n",
       "    </tr>\n",
       "    <tr>\n",
       "      <th>8086</th>\n",
       "      <td>Q91ZU6</td>\n",
       "      <td>66547</td>\n",
       "      <td>46086</td>\n",
       "    </tr>\n",
       "  </tbody>\n",
       "</table>\n",
       "<p>445 rows × 3 columns</p>\n",
       "</div>"
      ]
     },
     "metadata": {},
     "execution_count": 67
    }
   ],
   "metadata": {}
  },
  {
   "cell_type": "code",
   "execution_count": 50,
   "source": [
    "ALL_HG = sum(HG_all_count[HG_all_count['proteinID_x'].isin(ortho_cds_valids['proteinID_x'])]['unique_MT'])\n",
    "ALL_MM = sum(MM_all_count[MM_all_count['proteinID_y'].isin(ortho_cds_valids['proteinID_y'])]['unique_MT'])\n",
    "\n",
    "ALL_HG + ALL_MM\n"
   ],
   "outputs": [
    {
     "output_type": "execute_result",
     "data": {
      "text/plain": [
       "69896045"
      ]
     },
     "metadata": {},
     "execution_count": 50
    }
   ],
   "metadata": {}
  },
  {
   "cell_type": "code",
   "execution_count": 51,
   "source": [
    "HG_chap_clt_counts = pd.read_csv('../../data/mutation_tolerance/HG_chap_client_mutants_counts.csv').rename(columns={'proteinID':'proteinID_x'})\n",
    "MM_chap_clt_counts = pd.read_csv('../../data/mutation_tolerance/MM_chap_client_mutants_counts.csv').rename(columns={'proteinID':'proteinID_y'})"
   ],
   "outputs": [],
   "metadata": {}
  },
  {
   "cell_type": "code",
   "execution_count": 52,
   "source": [
    "CHAP_CLT_HG = sum(HG_chap_clt_counts[HG_chap_clt_counts['proteinID_x'].isin(ortho_cds_valids['proteinID_x'])]['unique_MT'])\n",
    "CHAP_CLT_MM = sum(MM_chap_clt_counts[MM_chap_clt_counts['proteinID_y'].isin(ortho_cds_valids['proteinID_y'])]['unique_MT'])\n",
    "CHAP_CLT_HG + CHAP_CLT_MM"
   ],
   "outputs": [
    {
     "output_type": "execute_result",
     "data": {
      "text/plain": [
       "10071232"
      ]
     },
     "metadata": {},
     "execution_count": 52
    }
   ],
   "metadata": {}
  },
  {
   "cell_type": "markdown",
   "source": [
    "### Directory list for sbatch"
   ],
   "metadata": {}
  },
  {
   "cell_type": "code",
   "execution_count": 25,
   "source": [
    "HG_others_stats = HG_all_stats[~HG_all_stats['proteinID_x'].isin(HG_chap_clt_stats['proteinID_x'])]\n",
    "MM_others_stats = MM_all_stats[~MM_all_stats['proteinID_y'].isin(MM_chap_clt_stats['proteinID_y'])]"
   ],
   "outputs": [],
   "metadata": {}
  },
  {
   "cell_type": "markdown",
   "source": [
    "### Checking number of mutants"
   ],
   "metadata": {}
  },
  {
   "cell_type": "code",
   "execution_count": 26,
   "source": [
    "sum(HG_all_stats['unique_MT'])"
   ],
   "outputs": [
    {
     "output_type": "execute_result",
     "data": {
      "text/plain": [
       "35014973"
      ]
     },
     "metadata": {},
     "execution_count": 26
    }
   ],
   "metadata": {}
  },
  {
   "cell_type": "code",
   "execution_count": 27,
   "source": [
    "sum(MM_all_stats['unique_MT'])"
   ],
   "outputs": [
    {
     "output_type": "execute_result",
     "data": {
      "text/plain": [
       "34559953"
      ]
     },
     "metadata": {},
     "execution_count": 27
    }
   ],
   "metadata": {}
  },
  {
   "cell_type": "code",
   "execution_count": 31,
   "source": [
    "MM_all_stats[MM_chap_clt_stats['proteinID_y'] == 'A2AN08']"
   ],
   "outputs": [
    {
     "output_type": "execute_result",
     "data": {
      "text/plain": [
       "   proteinID_y  all_MT  unique_MT\n",
       "12      A2AN08   46630      31953"
      ],
      "text/html": [
       "<div>\n",
       "<style scoped>\n",
       "    .dataframe tbody tr th:only-of-type {\n",
       "        vertical-align: middle;\n",
       "    }\n",
       "\n",
       "    .dataframe tbody tr th {\n",
       "        vertical-align: top;\n",
       "    }\n",
       "\n",
       "    .dataframe thead th {\n",
       "        text-align: right;\n",
       "    }\n",
       "</style>\n",
       "<table border=\"1\" class=\"dataframe\">\n",
       "  <thead>\n",
       "    <tr style=\"text-align: right;\">\n",
       "      <th></th>\n",
       "      <th>proteinID_y</th>\n",
       "      <th>all_MT</th>\n",
       "      <th>unique_MT</th>\n",
       "    </tr>\n",
       "  </thead>\n",
       "  <tbody>\n",
       "    <tr>\n",
       "      <th>12</th>\n",
       "      <td>A2AN08</td>\n",
       "      <td>46630</td>\n",
       "      <td>31953</td>\n",
       "    </tr>\n",
       "  </tbody>\n",
       "</table>\n",
       "</div>"
      ]
     },
     "metadata": {},
     "execution_count": 31
    }
   ],
   "metadata": {}
  },
  {
   "cell_type": "code",
   "execution_count": 50,
   "source": [
    "HG_all_stats[HG_chap_clt_stats['proteinID_x'] == 'G5AWV7']"
   ],
   "outputs": [
    {
     "output_type": "execute_result",
     "data": {
      "text/plain": [
       "    proteinID_x  all_MT  unique_MT\n",
       "291      G5AWV7   40375      28247"
      ],
      "text/html": [
       "<div>\n",
       "<style scoped>\n",
       "    .dataframe tbody tr th:only-of-type {\n",
       "        vertical-align: middle;\n",
       "    }\n",
       "\n",
       "    .dataframe tbody tr th {\n",
       "        vertical-align: top;\n",
       "    }\n",
       "\n",
       "    .dataframe thead th {\n",
       "        text-align: right;\n",
       "    }\n",
       "</style>\n",
       "<table border=\"1\" class=\"dataframe\">\n",
       "  <thead>\n",
       "    <tr style=\"text-align: right;\">\n",
       "      <th></th>\n",
       "      <th>proteinID_x</th>\n",
       "      <th>all_MT</th>\n",
       "      <th>unique_MT</th>\n",
       "    </tr>\n",
       "  </thead>\n",
       "  <tbody>\n",
       "    <tr>\n",
       "      <th>291</th>\n",
       "      <td>G5AWV7</td>\n",
       "      <td>40375</td>\n",
       "      <td>28247</td>\n",
       "    </tr>\n",
       "  </tbody>\n",
       "</table>\n",
       "</div>"
      ]
     },
     "metadata": {},
     "execution_count": 50
    }
   ],
   "metadata": {}
  },
  {
   "cell_type": "markdown",
   "source": [
    "## 4. Calculation of mutation tolerance"
   ],
   "metadata": {}
  },
  {
   "cell_type": "code",
   "execution_count": 54,
   "source": [
    "MUT_RES = '/media/savvy/DATA3/savvy/project_2018/computational_mutagenesis/FINAL_RESULTS'"
   ],
   "outputs": [],
   "metadata": {}
  },
  {
   "cell_type": "code",
   "execution_count": 63,
   "source": [
    "  \n",
    "def count_final_agg_score(proteinID, MM_all_count, HG_all_count, MUT_RES):\n",
    "    if proteinID in MM_all_count['proteinID_y'].values:\n",
    "        exp = int(MM_all_count[ MM_all_count['proteinID_y'] == proteinID ]['unique_MT'].values)\n",
    "    elif proteinID in HG_all_count['proteinID_x'].values:\n",
    "        exp = int(HG_all_count[ HG_all_count['proteinID_x'] == proteinID ]['unique_MT'].values)\n",
    "    \n",
    "    if f'{proteinID}_aggregation.txt' in os.listdir(MUT_RES):\n",
    "        agg_tmp = pd.read_csv(os.path.join(MUT_RES,f'{proteinID}_aggregation.txt'), sep='\\t')\n",
    "        real = len(agg_tmp)\n",
    "            \n",
    "    if exp == real :\n",
    "        return True\n",
    "    else:\n",
    "        return False\n",
    "\n",
    "\n",
    "def calculate_mutation_metrics(agg_table, threshold):\n",
    "    agg_table['deltaMut'] = agg_table['Aggregation'] - agg_table['Aggregation'][0]\n",
    "    agg_table = agg_table[1:]\n",
    "    mutTol = len(agg_table[agg_table['deltaMut'] == 0 ]) / len(agg_table)\n",
    "    mutVul = len(agg_table[agg_table['deltaMut'] > threshold]) / len(agg_table)\n",
    "    return mutTol, mutVul\n",
    "\n",
    "\n",
    "def mutation_metrics_table(all_agg_scores, threshold):\n",
    "    tmp = []\n",
    "    bar = progressbar.ProgressBar()\n",
    "    for X, Y in bar(all_agg_scores[['proteinID_x', 'proteinID_y']].values):\n",
    "        try:\n",
    "            if f'{X}_aggregation.txt' in os.listdir(MUT_RES):\n",
    "                HG_tmp = pd.read_csv(os.path.join(MUT_RES,f'{X}_aggregation.txt'), sep='\\t')\n",
    "                MM_tmp = pd.read_csv(os.path.join(MUT_RES,f'{Y}_aggregation.txt'), sep='\\t')\n",
    "                mutTol_x, mutVul_x= calculate_mutation_metrics(HG_tmp, threshold)\n",
    "                mutTol_y, mutVul_y= calculate_mutation_metrics(MM_tmp, threshold)\n",
    "                tmp.append([X, mutTol_x, mutVul_x, Y, mutTol_y, mutVul_y])\n",
    "        except:\n",
    "            pass\n",
    "    mutation_metrics_table = pd.DataFrame(tmp, columns=['proteinID_x', 'mutTol_x', 'mutVul_x' ,'proteinID_y', 'mutTol_y', 'mutVul_y'])\n",
    "    \n",
    "    aggregation_table = all_agg_scores[['proteinID_x', 'Aggregation_x', 'length_x', 'proteinID_y', 'Aggregation_y', 'length_y']]\n",
    "    aggregation_table = aggregation_table[aggregation_table['proteinID_x'].isin(mutation_metrics_table['proteinID_x'])]\n",
    "    \n",
    "    TABLE = mutation_metrics_table.merge(aggregation_table, on=['proteinID_x', 'proteinID_y']) \n",
    "    return TABLE"
   ],
   "outputs": [],
   "metadata": {}
  },
  {
   "cell_type": "code",
   "execution_count": null,
   "source": [
    "tmp = []\n",
    "bar = progressbar.ProgressBar()\n",
    "for agg_table in bar(os.listdir(MUT_RES)):\n",
    "    protein = agg_table.split('_')[0]\n",
    "    tmp.append([protein, count_final_agg_score(protein, MUT_RES)])\n",
    "check_final_mutants = pd.DataFrame(tmp, columns=['proteinID', 'all_tango_run'])"
   ],
   "outputs": [],
   "metadata": {}
  },
  {
   "cell_type": "code",
   "execution_count": null,
   "source": [
    "check_final_mutants[check_final_mutants['all_tango_run'] == True]"
   ],
   "outputs": [],
   "metadata": {}
  },
  {
   "cell_type": "code",
   "execution_count": null,
   "source": [
    "mutant_size = []\n",
    "for ID in check_final_mutants[check_final_mutants['all_tango_run'] == False]['proteinID']:\n",
    "    if ID in MM_all_count['proteinID_y'].values:\n",
    "        size = MM_all_count[MM_all_count['proteinID_y'] == ID]['unique_MT'].values[0]\n",
    "    elif ID in HG_all_count['proteinID_x'].values:\n",
    "        size = HG_all_count[HG_all_count['proteinID_x'] == ID]['unique_MT'].values[0]\n",
    "    mutant_size.append([ID, size])\n",
    "check_bug_mutants = pd.DataFrame(mutant_size, columns=['proteinID', 'nb_mutants'])"
   ],
   "outputs": [],
   "metadata": {}
  },
  {
   "cell_type": "code",
   "execution_count": null,
   "source": [
    "%%time\n",
    "MT_2 = mutation_metrics_table(all_agg_scores, 2)\n",
    "MT_2 = MT_2[~(MT_2['proteinID_x'].isin(bugs)) | (MT_2['proteinID_y'].isin(bugs))]"
   ],
   "outputs": [],
   "metadata": {}
  },
  {
   "cell_type": "code",
   "execution_count": null,
   "source": [
    "MT_2.to_csv('../../data/mutation_tolerance/all_mt_scores.csv', sep='\\t', index=False)"
   ],
   "outputs": [],
   "metadata": {}
  }
 ],
 "metadata": {
  "kernelspec": {
   "name": "python3",
   "display_name": "Python 3.8.10 64-bit ('bioinfo_3.8': conda)"
  },
  "language_info": {
   "codemirror_mode": {
    "name": "ipython",
    "version": 3
   },
   "file_extension": ".py",
   "mimetype": "text/x-python",
   "name": "python",
   "nbconvert_exporter": "python",
   "pygments_lexer": "ipython3",
   "version": "3.8.10"
  },
  "interpreter": {
   "hash": "52454c618a4204657519cbab42273bb942d0a30f08c27de48ae386072d003f99"
  }
 },
 "nbformat": 4,
 "nbformat_minor": 4
}